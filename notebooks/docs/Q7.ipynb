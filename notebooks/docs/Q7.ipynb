{
 "cells": [
  {
   "cell_type": "markdown",
   "metadata": {},
   "source": [
    "Before you turn this problem in, make sure everything runs as expected. First, **restart the kernel** (in the menubar, select Kernel$\\rightarrow$Restart) and then **run all cells** (in the menubar, select Cell$\\rightarrow$Run All).\n",
    "\n",
    "Make sure you fill in any place that says `YOUR CODE HERE` or \"YOUR ANSWER HERE\".\n",
    "\n",
    "Do not edit or insert code into the test cells as all you insert will be overwritten by the automated testing code."
   ]
  },
  {
   "cell_type": "markdown",
   "metadata": {},
   "source": [
    "---"
   ]
  },
  {
   "cell_type": "markdown",
   "metadata": {
    "deletable": false,
    "editable": false,
    "nbgrader": {
     "checksum": "10bb8f83d544d1f48179aed611fef7b1",
     "grade": false,
     "grade_id": "cell-a400e972d051920d",
     "locked": true,
     "schema_version": 1,
     "solution": false
    }
   },
   "source": [
    "**Question 7**: Full radiation sensor experiment simulation - set up a fairly complete radiation sensor measurement and analysis simulation in stages.\n",
    "\n",
    "**(a)**: Use the simple pulse model function from the script (page 43, function `simple_pulse`, lines 4-10) and modify it to take the full time value array as first input as well as the pulse onset number as second input parameter: `simple_pulse(time, onset, amplitude, risetime, decaytime)`.\n",
    "\n",
    "**(b)**: Create a set of 2000 pulses of length 1000 with each entry corresponding to 1 ns sampling with the following composition: \n",
    "\n",
    "A fraction of 45% of all pulses should feature amplitudes, $A$, from a uniform distribution between 1 and 100. Each pulse should have a risetime of 6 ns, decay time of 200 ns and onset time of 250 ns. Then, separately, add noise to each pulse. The noise should consist of 1000 Gaussian random numbers with amplitude of $\\sqrt{A}$, added to the 1000 pulse values. Store the pulses for processing at the next stage.\n",
    "\n",
    "Another 45% of all pulses should be randomly chosen from a set of amplitudes: $(11, 16, 31, 82)$, representing monoenergetic radiation from a source. Again, add Gaussian noise to each pulse like above and add each pulse to the data store.\n",
    "\n",
    "The final 10% of all pulses should be made up of random amplitude (between 1 and 20) damped oscillations with frequency $1/80$ ns$^{-1}$ and decay time 500 ns, i.e. not the simple pulse model, i.e. write a suitable function for this oscillation model. Call this function `oscillation(length, amplitude, freq, decaytime)` with the data array length, amplitude, frequency and decay time as arguments in that order. These oscillations would represent typical microphonics noise of sensors and are often a nuisance in real measurements. Again, add Gaussian noise to each oscillation model like above and add each output to the data store.\n",
    "\n",
    "**(c)**: Fit all pulses in the data store and store the fitted amplitudes and, separately, the relative errors of all 4 fitted parameters. The latter should result in a 2D array of shape $(N,4)$ with $N$ the number of successfully fitted pulses, see hint below. Complicated fits really require good starting value guesses and fit parameter boundaries, both of which can be handed over to the scipy `curve_fit()` function. \n",
    "\n",
    "**Hint:** Remember that fits can fail and should then simply be discarded - look up and use a python try, except clause construction, i.e. error handling in python. If the fit fails then `curve_fit` will typically raise a 'ValueError' which your code can find with the 'except' keyword and move on to the next fit, i.e. discard that failed fit. You should expect some failed fits, resulting in $N<2000$.\n",
    "\n",
    "**(d)**: Draw a first plot of amplitudes against onset relative error, with appropriate axis labels, and define a selection cut (likely on too small amplitudes) for a population of fit results which should represent well-fit, reliable pulse amplitudes. Draw a histogram plot of this select population of amplitudes. This histogram should show amplitude peaks corresponding to the radiation source and some background.\n",
    "\n",
    "**(e)**: Fit and draw (on the histogram) the radiation peaks as Gaussian curves on a background which should be flat and create a final plot of fitted peak width against fitted amplitude for the fitted peaks. This represents the energy resolution response function of your hypothetical radiation sensor.\n"
   ]
  },
  {
   "cell_type": "code",
   "execution_count": 4,
   "metadata": {
    "deletable": false,
    "nbgrader": {
     "checksum": "f10951b0928406e6133a7f1c53199a9a",
     "grade": false,
     "grade_id": "Q7Code",
     "locked": false,
     "schema_version": 1,
     "solution": true
    }
   },
   "outputs": [
    {
     "data": {
      "image/png": "[encoded data removed]",
      "text/plain": [
       "<Figure size 432x288 with 1 Axes>"
      ]
     },
     "metadata": {
      "needs_background": "light"
     },
     "output_type": "display_data"
    },
    {
     "data": {
      "image/png": "[encoded data removed]",
      "text/plain": [
       "<Figure size 432x288 with 1 Axes>"
      ]
     },
     "metadata": {
      "needs_background": "light"
     },
     "output_type": "display_data"
    }
   ],
   "source": [
    "import numpy as np\n",
    "import random\n",
    "from scipy.optimize import curve_fit\n",
    "import matplotlib.pyplot as plt\n",
    "\n",
    "def simple_pulse(time, onset, amplitude, risetime, decaytime):\n",
    "    pulse = (np.exp(-(time-onset)/risetime)-np.exp(-(time-onset)/decaytime))\n",
    "    pulse[np.where(time < onset)] = 0.0\n",
    "    return -amplitude*pulse\n",
    "\n",
    "def oscillation(length, amplitude, frequency, decaytime):\n",
    "    time2 = np.linspace(0,length-1,length)\n",
    "    pulse2 = np.exp(-(time2)/decaytime)*np.sin(2*np.pi*frequency*time2)\n",
    "    return amplitude*pulse2\n",
    "\n",
    "def fitter(xval, yval, initial, john):\n",
    "    best, _ = curve_fit(simple_pulse, xval, yval, p0=initial, bounds=john)\n",
    "    return best, _\n",
    "\n",
    "first_45 = []\n",
    "second_45 = []\n",
    "last_10 = []\n",
    "\n",
    "for i in np.arange(2000):\n",
    "    amp1 = np.random.uniform(1,100)\n",
    "    pulse1 = simple_pulse(np.linspace(0, 999, 1000), 250, amp1, 6, 200)\n",
    "    noise1 = pulse1 + np.random.normal(0.0, amp1**0.5, 1000)\n",
    "    first_45.append(noise1)\n",
    "\n",
    "for i in np.arange(2000):\n",
    "    amplitudes = [11, 16, 31, 82]\n",
    "    n = np.random.randint(0,3)\n",
    "    amp2 = amplitudes[n]\n",
    "    pulse2 = simple_pulse(np.linspace(0, 999, 1000), 250, amp2, 6, 200)\n",
    "    noise2 = pulse2 + np.random.normal(0.0, amp2**0.5, 1000)\n",
    "    second_45.append(noise2)\n",
    "\n",
    "for i in np.arange(2000):\n",
    "    amp3 = np.random.uniform(1,100)\n",
    "    pulse3 = oscillation(1000, amp3, 1/80, 500)\n",
    "    noise3 = pulse3 + np.random.normal(0.0, amp3**0.5, 1000)\n",
    "    last_10.append(noise3)\n",
    "\n",
    "\n",
    "full = 0.45*np.asarray(first_45) + 0.45*np.asarray(second_45) + 0.1*np.asarray(last_10)\n",
    "\n",
    "\n",
    "\n",
    "time1 = np.linspace(0,999,1000)\n",
    "onset1 = 250\n",
    "risetime1 = 6\n",
    "decaytime1 = 200\n",
    "\n",
    "xvalues = time1\n",
    "\n",
    "initial_parameters = (250, 50, 6, 200)\n",
    "fitted_amplitudes = []\n",
    "r_errors = []\n",
    "count = []\n",
    "o_errors = []\n",
    "amplitudes_we_want = []\n",
    "\n",
    "for i in range(0,1999):\n",
    "    yvalues = full[i]\n",
    "    try:\n",
    "        fit_parameters, covarmat = fitter(xvalues, yvalues, initial_parameters, (np.array([1,1,1,150]), np.array([500,100,20,1000])))\n",
    "        fitted_amplitudes.append(fit_parameters[1])\n",
    "        variance = np.diagonal(covarmat)\n",
    "        standard_dev = np.sqrt(abs(variance))\n",
    "        r_err = standard_dev/fit_parameters\n",
    "        r_errors.append(r_err)\n",
    "        o_errors.append(r_err[0])\n",
    "        if fit_parameters[1] > 1:\n",
    "            amplitudes_we_want.append(fit_parameters[1])\n",
    "    except RuntimeError:\n",
    "        continue\n",
    "\n",
    "plt.scatter(o_errors, fitted_amplitudes, marker='.')\n",
    "plt.xlabel(\"Onset error\")\n",
    "plt.ylabel(\"Fitted Amplitudes\")\n",
    "plt.title(\"Demonstrating good and bad fits\")\n",
    "plt.show()\n",
    "\n",
    "plt.hist(amplitudes_we_want, 20)\n",
    "plt.xlabel(\"Amplitude\")\n",
    "plt.ylabel(\"Frequency\")\n",
    "plt.title(\"Histogram Plot\")\n",
    "plt.show()\n"
   ]
  },
  {
   "cell_type": "code",
   "execution_count": 5,
   "metadata": {
    "deletable": false,
    "editable": false,
    "nbgrader": {
     "checksum": "c107c69a452d3cf74a1cbcba94c47499",
     "grade": true,
     "grade_id": "Q7TestA",
     "locked": true,
     "points": 1,
     "schema_version": 1,
     "solution": false
    }
   },
   "outputs": [],
   "source": [
    "# Test cell\n",
    "# test simple_pulse function\n",
    "rt = 6.0\n",
    "dt = 200.0\n",
    "l = 1000\n",
    "amp = 10.0\n",
    "t = np.linspace(0, l, l + 1)\n",
    "on = 0.25 * l # start 25% into the length\n",
    "\n",
    "data = simple_pulse(t, on, amp, rt, dt)\n",
    "assert (np.argmax(data)==272), 'wrong location of pulse maximum.'\n"
   ]
  },
  {
   "cell_type": "code",
   "execution_count": 6,
   "metadata": {
    "deletable": false,
    "editable": false,
    "nbgrader": {
     "checksum": "3c5a5e77280970e98c658347be68fe22",
     "grade": true,
     "grade_id": "Q7TestB",
     "locked": true,
     "points": 2,
     "schema_version": 1,
     "solution": false
    }
   },
   "outputs": [],
   "source": [
    "# Test cell\n",
    "# test oscillation function\n",
    "l = 1000\n",
    "oscdecay = 500\n",
    "oscfreq = 1.0/80.0\n",
    "amp = 10\n",
    "data = oscillation(l, amp, oscfreq, oscdecay)\n",
    "assert (np.argmax(data)==20 and np.argmin(data)==60), 'wrong max and min locations.'\n",
    "assert (np.max(data)>9.5 and np.max(data)<9.7), 'wrong maximum amplitude for oscillation.'\n"
   ]
  },
  {
   "cell_type": "markdown",
   "metadata": {
    "deletable": false,
    "editable": false,
    "nbgrader": {
     "checksum": "27a1a149198d7f6e24ece2a44fc95840",
     "grade": false,
     "grade_id": "cell-119db53c8cfac863",
     "locked": true,
     "schema_version": 1,
     "solution": false
    }
   },
   "source": [
    "### Tests 3 marks; Style 1 mark; Plots - 6 marks"
   ]
  }
 ],
 "metadata": {
  "kernelspec": {
   "display_name": "Python 3",
   "language": "python",
   "name": "python3"
  },
  "language_info": {
   "codemirror_mode": {
    "name": "ipython",
    "version": 3
   },
   "file_extension": ".py",
   "mimetype": "text/x-python",
   "name": "python",
   "nbconvert_exporter": "python",
   "pygments_lexer": "ipython3",
   "version": "3.6.7"
  }
 },
 "nbformat": 4,
 "nbformat_minor": 2
}
